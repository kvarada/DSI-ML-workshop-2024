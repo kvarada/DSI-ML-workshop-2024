{
 "cells": [
  {
   "cell_type": "markdown",
   "id": "11e19500-5b1a-47d4-929f-a4e4db5fe3b6",
   "metadata": {},
   "source": [
    "# Deep learning"
   ]
  },
  {
   "cell_type": "markdown",
   "id": "f371b587-97b2-4fa1-8260-90458a91ee10",
   "metadata": {
    "slideshow": {
     "slide_type": "skip"
    }
   },
   "source": [
    "## Imports"
   ]
  },
  {
   "cell_type": "markdown",
   "id": "21fab386-d11d-4f52-8316-0fe7498dec04",
   "metadata": {
    "slideshow": {
     "slide_type": "skip"
    }
   },
   "source": [
    "## Learning outcomes \n",
    "From this module, you will be able to "
   ]
  },
  {
   "cell_type": "markdown",
   "id": "eff2184c-6a3e-45d6-9316-b9c4567052da",
   "metadata": {},
   "source": [
    "<br><br>"
   ]
  }
 ],
 "metadata": {
  "kernelspec": {
   "display_name": "571",
   "language": "python",
   "name": "571"
  },
  "language_info": {
   "codemirror_mode": {
    "name": "ipython",
    "version": 3
   },
   "file_extension": ".py",
   "mimetype": "text/x-python",
   "name": "python",
   "nbconvert_exporter": "python",
   "pygments_lexer": "ipython3",
   "version": "3.10.0"
  }
 },
 "nbformat": 4,
 "nbformat_minor": 5
}
